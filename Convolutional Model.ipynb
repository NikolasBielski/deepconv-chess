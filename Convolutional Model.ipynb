{
 "cells": [
  {
   "cell_type": "code",
   "execution_count": 7,
   "metadata": {},
   "outputs": [],
   "source": [
    "import numpy as np\n",
    "\n",
    "import matplotlib.pyplot as plt\n",
    "\n",
    "from sklearn.model_selection import train_test_split\n",
    "\n",
    "# Building the Neural Network\n",
    "from keras.models import Sequential\n",
    "from keras.layers import Dense, Dropout, Activation, Flatten\n",
    "from keras.layers.convolutional import Conv2D\n",
    "from keras.optimizers import SGD, RMSprop, Adam\n",
    "\n",
    "# Optimizing the Hyperparameters\n",
    "from hyperas import optim\n",
    "from hyperas.distributions import choice, uniform, conditional"
   ]
  },
  {
   "cell_type": "code",
   "execution_count": 2,
   "metadata": {
    "collapsed": true
   },
   "outputs": [],
   "source": [
    "def load_data():\n",
    "    print('Loading data...')\n",
    "    loaded = np.load('data/A00-139_first_10000.npz')\n",
    "    boards = loaded['arr_0']\n",
    "    targets = loaded['arr_1']\n",
    "    print('Data loaded.  Splitting data...')\n",
    "    b_train, b_test, t_train, t_test = train_test_split(boards, targets, test_size=0.25)\n",
    "    print('Returning output...')\n",
    "    return b_train, b_test, t_train, t_test"
   ]
  },
  {
   "cell_type": "code",
   "execution_count": 3,
   "metadata": {},
   "outputs": [
    {
     "name": "stdout",
     "output_type": "stream",
     "text": [
      "Loading data...\n",
      "Data loaded.  Splitting data...\n",
      "Returning output...\n"
     ]
    }
   ],
   "source": [
    "b_train, b_test, t_train, t_test = load_data()"
   ]
  },
  {
   "cell_type": "markdown",
   "metadata": {},
   "source": [
    "### Learning to Play Chess\n",
    "\n",
    "The initial objective in building the model will to be teach the agent how to play chess by example.  [@oshri2016predicting] offers one method for doing this by using convolutional neural networks to make predictions about the next move based on the board position.  They did this by training seven CNNs, the predict how desirable it was for each piece to move.  The last six were trained to predict the coordinates of a probable move for each piece.  Because of the differing objectives we will need to actually split out the data set into 7 different data sets, each containing only the board positions that are relavent to that CNN.\n",
    "\n",
    "This brings us to an important point about the CNN model.  We are not going to be giving it whole games at a time, rather pulling out only the specific board states that are relavent to that model. If we consider conceptually what this agent might be learning, because we are removing the flow of the actual game, this agent will probably not be able to reason about long term strategy very well.  Instead its creating a probability model of possible moves (and potentially impossible moves) based on a position. We might interpret this as learning the basic rules of the game, but certainly our agent isn't learning very much grant strategy.  \n",
    "\n",
    "Long term, we will seek to combine the intuition our agent will build about chess from the CNNs along with other deep learning approaches better suited to learning strategic choices.  These later agents may very likely required the data to be formatted in a different way, but that's work for later.\n",
    "\n",
    "#### Design Choices\n",
    "\n",
    "##### Split by color or not\n",
    "There are a series of choices that I will have to make in creating this model.  First, given that I am already cutting down the data set considerably to only moves for particular pieces, should I split the data further down to just white or black and train individual models.  This is a tough one, because there is both undeniable differences in how black has to play the game, particularly in the start of the game when they are behind a tempo automatically, and similarities in how the game is played no matter which color you are.  All that considered, the goal of *this particular model* is to learn legal and reasonable moves give a board state.  These are not the most strategic moves, as this model will have no conception of the temporal aspect of chess, and so I don't think we need to concern this model with the color of the pieces.\n",
    "\n",
    "### Preparing the data for CNNs"
   ]
  },
  {
   "cell_type": "code",
   "execution_count": 4,
   "metadata": {
    "collapsed": true
   },
   "outputs": [],
   "source": [
    "def b_to_w(boards):\n",
    "    return np.fliplr(boards)*-1\n",
    "\n",
    "def convert_colors(b=b_train, t=t_train):\n",
    "    move_made_by = t[:, 0]\n",
    "    bbs = b[(move_made_by == \"b\")]\n",
    "    bms = t[(move_made_by == 'b')]\n",
    "    wbs = b[(move_made_by == \"w\")]\n",
    "    wms = t[(move_made_by == 'w')]\n",
    "    bbs_t = np.array([b_to_w(b) for b in bbs])\n",
    "    bs = np.concatenate([bbs_t, wbs], axis=0)\n",
    "    ms = np.concatenate([bms, wms], axis=0)\n",
    "    return bs, ms\n",
    "\n",
    "def convert_coord(a):\n",
    "    #print(a)\n",
    "    board = np.zeros((8, 8))\n",
    "    board[int(a[0]),int(a[1])] = 1\n",
    "    return board\n",
    "\n",
    "def move_selector_data(bs, ms):\n",
    "    # piece selector data consists of all available board positions. The predictor is the index of the piece\n",
    "    # that moved (0 through 5).  \n",
    "    y = np.apply_along_axis(func1d=convert_coord, axis=1, arr=ms[:, 2:4])\n",
    "    #print(y.shape)\n",
    "    print(\"The Move Selector data set contains {} boards\".format(y.shape[0]))\n",
    "    return bs.astype('int'), y.reshape(y.shape[0], 64)\n",
    "\n",
    "def single_piece_selector_data(bs, ms, piece):\n",
    "    pieces = ['Pawn', 'Rook', 'Knight', 'Bishop', 'Queen', 'King']\n",
    "    move_selector = ms[:, 1]\n",
    "    piece_bs = bs[move_selector == piece]\n",
    "    piece_ms = ms[move_selector == piece, 4:6]\n",
    "    y = np.apply_along_axis(func1d=convert_coord, axis=1, arr=piece_ms)\n",
    "    print(\"The {} Move Selector data set contains {} boards\".format(pieces[int(piece)], piece_ms.shape[0]))\n",
    "    return piece_bs.astype('int'), y.reshape(y.shape[0], 64)"
   ]
  },
  {
   "cell_type": "code",
   "execution_count": 5,
   "metadata": {
    "scrolled": false
   },
   "outputs": [
    {
     "name": "stdout",
     "output_type": "stream",
     "text": [
      "The Move Selector data set contains 633586 boards\n",
      "The Pawn Move Selector data set contains 166469 boards\n",
      "The Rook Move Selector data set contains 109670 boards\n",
      "The Knight Move Selector data set contains 111631 boards\n",
      "The Bishop Move Selector data set contains 96784 boards\n",
      "The Queen Move Selector data set contains 73296 boards\n",
      "The King Move Selector data set contains 75736 boards\n"
     ]
    }
   ],
   "source": [
    "X_train, y_train = convert_colors()\n",
    "ms_X_tr, ms_y_tr = move_selector_data(X_train, y_train)\n",
    "pawn_X_tr, pawn_y_tr = single_piece_selector_data(X_train, y_train, '0') \n",
    "rook_X_tr, rook_y_tr = single_piece_selector_data(X_train, y_train, '1')\n",
    "knight_X_tr, knight_y_tr = single_piece_selector_data(X_train, y_train, '2')\n",
    "bishop_X_tr, bishop_y_tr = single_piece_selector_data(X_train, y_train, '3')\n",
    "queen_X_tr, queen_y_tr = single_piece_selector_data(X_train, y_train, '4')\n",
    "king_X_tr, king_y_tr = single_piece_selector_data(X_train, y_train, '5')"
   ]
  },
  {
   "cell_type": "code",
   "execution_count": 6,
   "metadata": {},
   "outputs": [
    {
     "name": "stdout",
     "output_type": "stream",
     "text": [
      "The Move Selector data set contains 211196 boards\n",
      "The Pawn Move Selector data set contains 55455 boards\n",
      "The Rook Move Selector data set contains 36535 boards\n",
      "The Knight Move Selector data set contains 37092 boards\n",
      "The Bishop Move Selector data set contains 32666 boards\n",
      "The Queen Move Selector data set contains 24435 boards\n",
      "The King Move Selector data set contains 25013 boards\n"
     ]
    }
   ],
   "source": [
    "X_test, y_test = convert_colors(b_test, t_test)\n",
    "ms_X_test, ps_y_test = move_selector_data(X_test, y_test)\n",
    "pawn_X_test, pawn_y_test = single_piece_selector_data(X_test, y_test, '0') \n",
    "rook_X_test, rook_y_test = single_piece_selector_data(X_test, y_test, '1')\n",
    "knight_X_test, knight_y_test = single_piece_selector_data(X_test, y_test, '2')\n",
    "bishop_X_test, bishop_y_test = single_piece_selector_data(X_test, y_test, '3')\n",
    "queen_X_test, queen_y_test = single_piece_selector_data(X_test, y_test, '4')\n",
    "king_X_test, king_y_test = single_piece_selector_data(X_test, y_test, '5')"
   ]
  },
  {
   "cell_type": "code",
   "execution_count": 13,
   "metadata": {
    "collapsed": true
   },
   "outputs": [],
   "source": [
    "def move_selector_model(kernal_size=(3, 3), conv_layers=2, dense_layers=2):\n",
    "    BOARD_CHANNELS = 6\n",
    "    BOARD_ROWS = 8\n",
    "    BOARD_COLS = 8    \n",
    "    NB_CLASSES = 64\n",
    "\n",
    "    # network\n",
    "    model = Sequential()\n",
    "    model.add(Conv2D(32, kernal_size, padding='same',\n",
    "    input_shape=(BOARD_CHANNELS, BOARD_COLS, BOARD_ROWS)))\n",
    "    model.add(Activation('relu'))\n",
    "    if conv_layers > 1:\n",
    "        for i in range(conv_layers-1):\n",
    "            model.add(Conv2D(32, kernal_size, padding='same'))\n",
    "            model.add(Activation('relu'))\n",
    "    \n",
    "    model.add(Flatten())\n",
    "    if dense_layers > 1:\n",
    "        for i in range(dense_layers-1):\n",
    "            model.add(Dense(64))\n",
    "            model.add(Activation(\"relu\")) \n",
    "    \n",
    "    model.add(Dense(NB_CLASSES))\n",
    "    model.add(Activation(\"softmax\"))\n",
    "    return model\n",
    "\n",
    "def compile_and_fit_ms_model(X_train, y_train, model):\n",
    "    OPTIMIZER = Adam()\n",
    "    BATCH_SIZE = 128\n",
    "    NB_EPOCH = 15\n",
    "    VALIDATION_SPLIT = 0.2    \n",
    "    VERBOSE = 1\n",
    "    \n",
    "    model.compile(loss=\"categorical_crossentropy\", optimizer=OPTIMIZER, metrics=[\"accuracy\"])\n",
    "    history = model.fit(X_train, y_train,\n",
    "                    batch_size=BATCH_SIZE, epochs=NB_EPOCH,\n",
    "                    verbose=VERBOSE, validation_split=VALIDATION_SPLIT)\n",
    "    return model, history\n",
    "\n",
    "def score_model(X_test, y_test, model):\n",
    "    VERBOSE = 1\n",
    "    score = model.evaluate(X_test, y_test, verbose=VERBOSE)\n",
    "    print(\"Test score:\", score[0])\n",
    "    print('Test accuracy:', score[1])\n",
    "    return model, score\n",
    "\n",
    "def plot_acc_loss(history):\n",
    "    # list all data in history\n",
    "    print(history.history.keys())\n",
    "    # summarize history for accuracy\n",
    "    plt.plot(history.history['acc'])\n",
    "    plt.plot(history.history['val_acc'])\n",
    "    plt.title('model accuracy')\n",
    "    plt.ylabel('accuracy')\n",
    "    plt.xlabel('epoch')\n",
    "    plt.legend(['train', 'test'], loc='upper left')\n",
    "    plt.show()\n",
    "    # summarize history for loss\n",
    "    plt.plot(history.history['loss'])\n",
    "    plt.plot(history.history['val_loss'])\n",
    "    plt.title('model loss')\n",
    "    plt.ylabel('loss')\n",
    "    plt.xlabel('epoch')\n",
    "    plt.legend(['train', 'test'], loc='upper left')\n",
    "    plt.show()"
   ]
  },
  {
   "cell_type": "code",
   "execution_count": 35,
   "metadata": {},
   "outputs": [
    {
     "name": "stdout",
     "output_type": "stream",
     "text": [
      "Train on 506868 samples, validate on 126718 samples\n",
      "Epoch 1/15\n",
      "506868/506868 [==============================] - 21s - loss: 2.7573 - acc: 0.2135 - val_loss: 2.6220 - val_acc: 0.1891\n",
      "Epoch 2/15\n",
      "506868/506868 [==============================] - 19s - loss: 2.3838 - acc: 0.2578 - val_loss: 2.5961 - val_acc: 0.1881\n",
      "Epoch 3/15\n",
      "506868/506868 [==============================] - 19s - loss: 2.3206 - acc: 0.2713 - val_loss: 2.5519 - val_acc: 0.1956\n",
      "Epoch 4/15\n",
      "506868/506868 [==============================] - 19s - loss: 2.2845 - acc: 0.2790 - val_loss: 2.5746 - val_acc: 0.1913\n",
      "Epoch 5/15\n",
      "506868/506868 [==============================] - 19s - loss: 2.2563 - acc: 0.2853 - val_loss: 2.5064 - val_acc: 0.2068\n",
      "Epoch 6/15\n",
      "506868/506868 [==============================] - 20s - loss: 2.2329 - acc: 0.2902 - val_loss: 2.4810 - val_acc: 0.2143\n",
      "Epoch 7/15\n",
      "506868/506868 [==============================] - 19s - loss: 2.2114 - acc: 0.2958 - val_loss: 2.4469 - val_acc: 0.2222\n",
      "Epoch 8/15\n",
      "506868/506868 [==============================] - 19s - loss: 2.1930 - acc: 0.2990 - val_loss: 2.4630 - val_acc: 0.2198\n",
      "Epoch 9/15\n",
      "506868/506868 [==============================] - 19s - loss: 2.1764 - acc: 0.3027 - val_loss: 2.4371 - val_acc: 0.2292\n",
      "Epoch 10/15\n",
      "506868/506868 [==============================] - 19s - loss: 2.1613 - acc: 0.3063 - val_loss: 2.4577 - val_acc: 0.2210\n",
      "Epoch 11/15\n",
      "506868/506868 [==============================] - 19s - loss: 2.1485 - acc: 0.3088 - val_loss: 2.4359 - val_acc: 0.2288\n",
      "Epoch 12/15\n",
      "506868/506868 [==============================] - 19s - loss: 2.1376 - acc: 0.3108 - val_loss: 2.4241 - val_acc: 0.2258\n",
      "Epoch 13/15\n",
      "506868/506868 [==============================] - 19s - loss: 2.1277 - acc: 0.3129 - val_loss: 2.3942 - val_acc: 0.2333\n",
      "Epoch 14/15\n",
      "506868/506868 [==============================] - 20s - loss: 2.1191 - acc: 0.3146 - val_loss: 2.4161 - val_acc: 0.2299\n",
      "Epoch 15/15\n",
      "506868/506868 [==============================] - 20s - loss: 2.1109 - acc: 0.3165 - val_loss: 2.4040 - val_acc: 0.2289\n"
     ]
    },
    {
     "ename": "NameError",
     "evalue": "name 'model' is not defined",
     "output_type": "error",
     "traceback": [
      "\u001b[1;31m---------------------------------------------------------------------------\u001b[0m",
      "\u001b[1;31mNameError\u001b[0m                                 Traceback (most recent call last)",
      "\u001b[1;32m<ipython-input-35-7fbaef10b50c>\u001b[0m in \u001b[0;36m<module>\u001b[1;34m()\u001b[0m\n\u001b[0;32m      1\u001b[0m \u001b[0mms_model\u001b[0m\u001b[1;33m,\u001b[0m \u001b[0mms_history\u001b[0m \u001b[1;33m=\u001b[0m \u001b[0mcompile_and_fit_ms_model\u001b[0m\u001b[1;33m(\u001b[0m\u001b[0mps_X_tr\u001b[0m\u001b[1;33m,\u001b[0m \u001b[0mps_y_tr\u001b[0m\u001b[1;33m,\u001b[0m \u001b[0mmove_selector_model\u001b[0m\u001b[1;33m(\u001b[0m\u001b[0mconv_layers\u001b[0m\u001b[1;33m=\u001b[0m\u001b[1;36m1\u001b[0m\u001b[1;33m)\u001b[0m\u001b[1;33m)\u001b[0m\u001b[1;33m\u001b[0m\u001b[0m\n\u001b[1;32m----> 2\u001b[1;33m \u001b[0mms_model\u001b[0m\u001b[1;33m,\u001b[0m \u001b[0mms_score\u001b[0m \u001b[1;33m=\u001b[0m \u001b[0mscore_model\u001b[0m\u001b[1;33m(\u001b[0m\u001b[0mps_X_test\u001b[0m\u001b[1;33m,\u001b[0m \u001b[0mps_y_test\u001b[0m\u001b[1;33m,\u001b[0m \u001b[0mmodel\u001b[0m\u001b[1;33m)\u001b[0m\u001b[1;33m\u001b[0m\u001b[0m\n\u001b[0m",
      "\u001b[1;31mNameError\u001b[0m: name 'model' is not defined"
     ]
    }
   ],
   "source": [
    "ms_model, ms_history = compile_and_fit_ms_model(ps_X_tr, ps_y_tr, move_selector_model(conv_layers=1))\n",
    "ms_model, ms_score = score_model(ps_X_test, ps_y_test, ms_model)"
   ]
  },
  {
   "cell_type": "code",
   "execution_count": 255,
   "metadata": {},
   "outputs": [
    {
     "name": "stdout",
     "output_type": "stream",
     "text": [
      "dict_keys(['val_loss', 'val_acc', 'loss', 'acc'])\n"
     ]
    },
    {
     "data": {
      "image/png": "[encoded data removed]",
      "text/plain": [
       "<matplotlib.figure.Figure at 0x16f39a7e5f8>"
      ]
     },
     "metadata": {},
     "output_type": "display_data"
    },
    {
     "data": {
      "image/png": "[encoded data removed]",
      "text/plain": [
       "<matplotlib.figure.Figure at 0x16f2339a1d0>"
      ]
     },
     "metadata": {},
     "output_type": "display_data"
    }
   ],
   "source": [
    "plot_acc_loss(ms_history)"
   ]
  },
  {
   "cell_type": "code",
   "execution_count": 23,
   "metadata": {
    "collapsed": true
   },
   "outputs": [],
   "source": [
    "def piece_selector_model(kernal_size=(3, 3), conv_layers=2, dense_layers=2):\n",
    "    BOARD_CHANNELS = 6\n",
    "    BOARD_ROWS = 8\n",
    "    BOARD_COLS = 8    \n",
    "    NB_CLASSES = 64\n",
    "\n",
    "    # network\n",
    "    model = Sequential()\n",
    "    model.add(Conv2D(32, kernal_size, padding='same',\n",
    "                     input_shape=(BOARD_CHANNELS, BOARD_COLS, BOARD_ROWS)))\n",
    "    model.add(Activation('relu'))\n",
    "    if conv_layers > 1:\n",
    "        for i in range(conv_layers-1):\n",
    "            model.add(Conv2D(32, kernal_size, padding='same'))\n",
    "            model.add(Activation('relu'))\n",
    "    \n",
    "    model.add(Flatten())\n",
    "    if dense_layers > 1:\n",
    "        for i in range(dense_layers-1):\n",
    "            model.add(Dense(64))\n",
    "            model.add(Activation(\"relu\")) \n",
    "    \n",
    "    model.add(Dense(NB_CLASSES))\n",
    "    model.add(Activation(\"softmax\"))\n",
    "    return model"
   ]
  },
  {
   "cell_type": "code",
   "execution_count": 26,
   "metadata": {},
   "outputs": [
    {
     "name": "stdout",
     "output_type": "stream",
     "text": [
      "Train on 133304 samples, validate on 33326 samples\n",
      "Epoch 1/15\n",
      "133304/133304 [==============================] - 6s - loss: 2.8108 - acc: 0.2113 - val_loss: 2.6632 - val_acc: 0.2320\n",
      "Epoch 2/15\n",
      "133304/133304 [==============================] - 5s - loss: 2.3871 - acc: 0.3031 - val_loss: 2.4672 - val_acc: 0.2661\n",
      "Epoch 3/15\n",
      "133304/133304 [==============================] - 5s - loss: 2.2075 - acc: 0.3376 - val_loss: 2.3585 - val_acc: 0.2810\n",
      "Epoch 4/15\n",
      "133304/133304 [==============================] - 5s - loss: 2.0905 - acc: 0.3605 - val_loss: 2.2880 - val_acc: 0.2993\n",
      "Epoch 5/15\n",
      "133304/133304 [==============================] - 5s - loss: 1.9970 - acc: 0.3804 - val_loss: 2.2048 - val_acc: 0.3095\n",
      "Epoch 6/15\n",
      "133304/133304 [==============================] - 5s - loss: 1.9278 - acc: 0.3953 - val_loss: 2.2013 - val_acc: 0.3075\n",
      "Epoch 7/15\n",
      "133304/133304 [==============================] - 5s - loss: 1.8748 - acc: 0.4079 - val_loss: 2.1342 - val_acc: 0.3317\n",
      "Epoch 8/15\n",
      "133304/133304 [==============================] - 5s - loss: 1.8305 - acc: 0.4189 - val_loss: 2.1711 - val_acc: 0.3177\n",
      "Epoch 9/15\n",
      "133304/133304 [==============================] - 5s - loss: 1.7958 - acc: 0.4266 - val_loss: 2.1825 - val_acc: 0.3169\n",
      "Epoch 10/15\n",
      "133304/133304 [==============================] - 5s - loss: 1.7619 - acc: 0.4362 - val_loss: 2.1460 - val_acc: 0.3345\n",
      "Epoch 11/15\n",
      "133304/133304 [==============================] - 5s - loss: 1.7335 - acc: 0.4426 - val_loss: 2.0971 - val_acc: 0.3472\n",
      "Epoch 12/15\n",
      "133304/133304 [==============================] - 5s - loss: 1.7097 - acc: 0.4493 - val_loss: 2.1279 - val_acc: 0.3420\n",
      "Epoch 13/15\n",
      "133304/133304 [==============================] - 5s - loss: 1.6850 - acc: 0.4547 - val_loss: 2.1272 - val_acc: 0.3449\n",
      "Epoch 14/15\n",
      "133304/133304 [==============================] - 5s - loss: 1.6665 - acc: 0.4614 - val_loss: 2.1407 - val_acc: 0.3425\n",
      "Epoch 15/15\n",
      "133304/133304 [==============================] - 5s - loss: 1.6478 - acc: 0.4684 - val_loss: 2.1488 - val_acc: 0.3413\n",
      "55040/55294 [============================>.] - ETA: 0sTest score: 2.01503223454\n",
      "Test accuracy: 0.381126342855\n"
     ]
    }
   ],
   "source": [
    "pawn_model, pawn_history = compile_and_fit_ms_model(pawn_X_tr, pawn_y_tr, piece_selector_model())\n",
    "pawn_model, pawn_score = score_model(pawn_X_test, pawn_y_test, pawn_model)"
   ]
  },
  {
   "cell_type": "code",
   "execution_count": 27,
   "metadata": {},
   "outputs": [
    {
     "name": "stdout",
     "output_type": "stream",
     "text": [
      "Train on 87668 samples, validate on 21918 samples\n",
      "Epoch 1/15\n",
      "87668/87668 [==============================] - 4s - loss: 3.4310 - acc: 0.1382 - val_loss: 3.2534 - val_acc: 0.1432\n",
      "Epoch 2/15\n",
      "87668/87668 [==============================] - 3s - loss: 2.9937 - acc: 0.1960 - val_loss: 3.0625 - val_acc: 0.1711\n",
      "Epoch 3/15\n",
      "87668/87668 [==============================] - 3s - loss: 2.8152 - acc: 0.2214 - val_loss: 2.9259 - val_acc: 0.1905\n",
      "Epoch 4/15\n",
      "87668/87668 [==============================] - 3s - loss: 2.6995 - acc: 0.2371 - val_loss: 2.9244 - val_acc: 0.1747\n",
      "Epoch 5/15\n",
      "87668/87668 [==============================] - 3s - loss: 2.6143 - acc: 0.2525 - val_loss: 2.8942 - val_acc: 0.1722\n",
      "Epoch 6/15\n",
      "87668/87668 [==============================] - 3s - loss: 2.5494 - acc: 0.2652 - val_loss: 2.8738 - val_acc: 0.1747\n",
      "Epoch 7/15\n",
      "87668/87668 [==============================] - 3s - loss: 2.4945 - acc: 0.2766 - val_loss: 2.8277 - val_acc: 0.1981\n",
      "Epoch 8/15\n",
      "87668/87668 [==============================] - 3s - loss: 2.4485 - acc: 0.2847 - val_loss: 2.8416 - val_acc: 0.1969\n",
      "Epoch 9/15\n",
      "87668/87668 [==============================] - 3s - loss: 2.4077 - acc: 0.2936 - val_loss: 2.8765 - val_acc: 0.1790\n",
      "Epoch 10/15\n",
      "87668/87668 [==============================] - 3s - loss: 2.3715 - acc: 0.3017 - val_loss: 2.8701 - val_acc: 0.1848\n",
      "Epoch 11/15\n",
      "87668/87668 [==============================] - 3s - loss: 2.3395 - acc: 0.3081 - val_loss: 2.9054 - val_acc: 0.1680\n",
      "Epoch 12/15\n",
      "87668/87668 [==============================] - 3s - loss: 2.3095 - acc: 0.3150 - val_loss: 2.8360 - val_acc: 0.2029\n",
      "Epoch 13/15\n",
      "87668/87668 [==============================] - 3s - loss: 2.2808 - acc: 0.3222 - val_loss: 2.8784 - val_acc: 0.1953\n",
      "Epoch 14/15\n",
      "87668/87668 [==============================] - 3s - loss: 2.2575 - acc: 0.3273 - val_loss: 2.8931 - val_acc: 0.1909\n",
      "Epoch 15/15\n",
      "87668/87668 [==============================] - 3s - loss: 2.2343 - acc: 0.3326 - val_loss: 2.9103 - val_acc: 0.1902\n",
      "36416/36619 [============================>.] - ETA: 0sTest score: 2.78006372741\n",
      "Test accuracy: 0.226194052272\n"
     ]
    }
   ],
   "source": [
    "rook_model, rook_history = compile_and_fit_ms_model(rook_X_tr, rook_y_tr, piece_selector_model())\n",
    "rook_model, rook_score = score_model(rook_X_test, rook_y_test, rook_model)"
   ]
  },
  {
   "cell_type": "code",
   "execution_count": 28,
   "metadata": {},
   "outputs": [
    {
     "name": "stdout",
     "output_type": "stream",
     "text": [
      "Train on 89354 samples, validate on 22339 samples\n",
      "Epoch 1/15\n",
      "89354/89354 [==============================] - 4s - loss: 2.7347 - acc: 0.2836 - val_loss: 2.5871 - val_acc: 0.2830\n",
      "Epoch 2/15\n",
      "89354/89354 [==============================] - 3s - loss: 2.2138 - acc: 0.3736 - val_loss: 2.3892 - val_acc: 0.3142\n",
      "Epoch 3/15\n",
      "89354/89354 [==============================] - 3s - loss: 2.0197 - acc: 0.4071 - val_loss: 2.2338 - val_acc: 0.3445\n",
      "Epoch 4/15\n",
      "89354/89354 [==============================] - 3s - loss: 1.9029 - acc: 0.4318 - val_loss: 2.2335 - val_acc: 0.3429\n",
      "Epoch 5/15\n",
      "89354/89354 [==============================] - 3s - loss: 1.8203 - acc: 0.4495 - val_loss: 2.1641 - val_acc: 0.3611\n",
      "Epoch 6/15\n",
      "89354/89354 [==============================] - 3s - loss: 1.7532 - acc: 0.4648 - val_loss: 2.1455 - val_acc: 0.3689\n",
      "Epoch 7/15\n",
      "89354/89354 [==============================] - 3s - loss: 1.6981 - acc: 0.4785 - val_loss: 2.1210 - val_acc: 0.3816\n",
      "Epoch 8/15\n",
      "89354/89354 [==============================] - 3s - loss: 1.6517 - acc: 0.4901 - val_loss: 2.0713 - val_acc: 0.3978\n",
      "Epoch 9/15\n",
      "89354/89354 [==============================] - 3s - loss: 1.6131 - acc: 0.5006 - val_loss: 2.0958 - val_acc: 0.3885\n",
      "Epoch 10/15\n",
      "89354/89354 [==============================] - 3s - loss: 1.5741 - acc: 0.5100 - val_loss: 2.0227 - val_acc: 0.4069\n",
      "Epoch 11/15\n",
      "89354/89354 [==============================] - 3s - loss: 1.5438 - acc: 0.5174 - val_loss: 2.0273 - val_acc: 0.4147\n",
      "Epoch 12/15\n",
      "89354/89354 [==============================] - 3s - loss: 1.5133 - acc: 0.5261 - val_loss: 2.1238 - val_acc: 0.3943\n",
      "Epoch 13/15\n",
      "89354/89354 [==============================] - 3s - loss: 1.4867 - acc: 0.5318 - val_loss: 2.0881 - val_acc: 0.3968\n",
      "Epoch 14/15\n",
      "89354/89354 [==============================] - 3s - loss: 1.4613 - acc: 0.5388 - val_loss: 2.1315 - val_acc: 0.3970\n",
      "Epoch 15/15\n",
      "89354/89354 [==============================] - 3s - loss: 1.4411 - acc: 0.5447 - val_loss: 2.1165 - val_acc: 0.4065\n",
      "37030/37030 [==============================] - 2s     \n",
      "Test score: 1.94953816428\n",
      "Test accuracy: 0.438428301384\n"
     ]
    }
   ],
   "source": [
    "knight_model, knightn_history = compile_and_fit_ms_model(knight_X_tr, knight_y_tr, piece_selector_model())\n",
    "knight_model, knight_score = score_model(knight_X_test, knight_y_test, knight_model)"
   ]
  },
  {
   "cell_type": "code",
   "execution_count": 33,
   "metadata": {},
   "outputs": [
    {
     "name": "stdout",
     "output_type": "stream",
     "text": [
      "Train on 77617 samples, validate on 19405 samples\n",
      "Epoch 1/15\n",
      "77617/77617 [==============================] - 3s - loss: 3.0250 - acc: 0.2313 - val_loss: 2.9176 - val_acc: 0.2256\n",
      "Epoch 2/15\n",
      "77617/77617 [==============================] - 3s - loss: 2.5479 - acc: 0.3166 - val_loss: 2.7765 - val_acc: 0.2389\n",
      "Epoch 3/15\n",
      "77617/77617 [==============================] - 3s - loss: 2.3628 - acc: 0.3471 - val_loss: 2.6652 - val_acc: 0.2596\n",
      "Epoch 4/15\n",
      "77617/77617 [==============================] - 3s - loss: 2.2412 - acc: 0.3682 - val_loss: 2.5579 - val_acc: 0.2846\n",
      "Epoch 5/15\n",
      "77617/77617 [==============================] - 3s - loss: 2.1466 - acc: 0.3860 - val_loss: 2.5408 - val_acc: 0.2914\n",
      "Epoch 6/15\n",
      "77617/77617 [==============================] - 3s - loss: 2.0722 - acc: 0.3996 - val_loss: 2.5371 - val_acc: 0.2875\n",
      "Epoch 7/15\n",
      "77617/77617 [==============================] - 3s - loss: 2.0094 - acc: 0.4145 - val_loss: 2.5053 - val_acc: 0.2990\n",
      "Epoch 8/15\n",
      "77617/77617 [==============================] - 3s - loss: 1.9536 - acc: 0.4254 - val_loss: 2.5112 - val_acc: 0.3035\n",
      "Epoch 9/15\n",
      "77617/77617 [==============================] - 3s - loss: 1.9053 - acc: 0.4344 - val_loss: 2.5444 - val_acc: 0.2929\n",
      "Epoch 10/15\n",
      "77617/77617 [==============================] - 3s - loss: 1.8628 - acc: 0.4475 - val_loss: 2.4923 - val_acc: 0.3128\n",
      "Epoch 11/15\n",
      "77617/77617 [==============================] - 3s - loss: 1.8215 - acc: 0.4560 - val_loss: 2.5342 - val_acc: 0.3023\n",
      "Epoch 12/15\n",
      "77617/77617 [==============================] - 3s - loss: 1.7869 - acc: 0.4647 - val_loss: 2.5592 - val_acc: 0.3022\n",
      "Epoch 13/15\n",
      "77617/77617 [==============================] - 3s - loss: 1.7534 - acc: 0.4723 - val_loss: 2.5663 - val_acc: 0.3099\n",
      "Epoch 14/15\n",
      "77617/77617 [==============================] - 3s - loss: 1.7216 - acc: 0.4812 - val_loss: 2.5701 - val_acc: 0.3121\n",
      "Epoch 15/15\n",
      "77617/77617 [==============================] - 3s - loss: 1.6956 - acc: 0.4877 - val_loss: 2.5567 - val_acc: 0.3202\n",
      "32428/32428 [==============================] - 2s     \n",
      "Test score: 2.35847527145\n",
      "Test accuracy: 0.362587887013\n"
     ]
    }
   ],
   "source": [
    "bishop_model, bishop_history = compile_and_fit_ms_model(bishop_X_tr, bishop_y_tr, piece_selector_model())\n",
    "bishop_model, bishop_score = score_model(bishop_X_test, bishop_y_test, bishop_model)"
   ]
  },
  {
   "cell_type": "code",
   "execution_count": 32,
   "metadata": {},
   "outputs": [
    {
     "name": "stdout",
     "output_type": "stream",
     "text": [
      "Train on 58496 samples, validate on 14624 samples\n",
      "Epoch 1/15\n",
      "58496/58496 [==============================] - 2s - loss: 3.6736 - acc: 0.1013 - val_loss: 3.5018 - val_acc: 0.1211\n",
      "Epoch 2/15\n",
      "58496/58496 [==============================] - 2s - loss: 3.2733 - acc: 0.1647 - val_loss: 3.3116 - val_acc: 0.1565\n",
      "Epoch 3/15\n",
      "58496/58496 [==============================] - 2s - loss: 3.0995 - acc: 0.1936 - val_loss: 3.2639 - val_acc: 0.1515\n",
      "Epoch 4/15\n",
      "58496/58496 [==============================] - 2s - loss: 2.9845 - acc: 0.2145 - val_loss: 3.1687 - val_acc: 0.1703\n",
      "Epoch 5/15\n",
      "58496/58496 [==============================] - 2s - loss: 2.8914 - acc: 0.2300 - val_loss: 3.1820 - val_acc: 0.1630\n",
      "Epoch 6/15\n",
      "58496/58496 [==============================] - 2s - loss: 2.8171 - acc: 0.2445 - val_loss: 3.1979 - val_acc: 0.1535\n",
      "Epoch 7/15\n",
      "58496/58496 [==============================] - 2s - loss: 2.7456 - acc: 0.2585 - val_loss: 3.1575 - val_acc: 0.1707\n",
      "Epoch 8/15\n",
      "58496/58496 [==============================] - 2s - loss: 2.6834 - acc: 0.2723 - val_loss: 3.1672 - val_acc: 0.1667\n",
      "Epoch 9/15\n",
      "58496/58496 [==============================] - 2s - loss: 2.6309 - acc: 0.2823 - val_loss: 3.1184 - val_acc: 0.1853\n",
      "Epoch 10/15\n",
      "58496/58496 [==============================] - 2s - loss: 2.5792 - acc: 0.2920 - val_loss: 3.1617 - val_acc: 0.1792\n",
      "Epoch 11/15\n",
      "58496/58496 [==============================] - 2s - loss: 2.5321 - acc: 0.3016 - val_loss: 3.1650 - val_acc: 0.1750\n",
      "Epoch 12/15\n",
      "58496/58496 [==============================] - 2s - loss: 2.4911 - acc: 0.3110 - val_loss: 3.1562 - val_acc: 0.1887\n",
      "Epoch 13/15\n",
      "58496/58496 [==============================] - 2s - loss: 2.4477 - acc: 0.3190 - val_loss: 3.2293 - val_acc: 0.1708\n",
      "Epoch 14/15\n",
      "58496/58496 [==============================] - 2s - loss: 2.4132 - acc: 0.3270 - val_loss: 3.2021 - val_acc: 0.1752\n",
      "Epoch 15/15\n",
      "58496/58496 [==============================] - 2s - loss: 2.3767 - acc: 0.3366 - val_loss: 3.2622 - val_acc: 0.1729\n",
      "24160/24611 [============================>.] - ETA: 0sTest score: 3.08755345767\n",
      "Test accuracy: 0.209377920442\n"
     ]
    }
   ],
   "source": [
    "queen_model, queen_history = compile_and_fit_ms_model(queen_X_tr, queen_y_tr, piece_selector_model())\n",
    "queen_model, queen_score = score_model(queen_X_test, queen_y_test, queen_model)"
   ]
  },
  {
   "cell_type": "code",
   "execution_count": 34,
   "metadata": {},
   "outputs": [
    {
     "name": "stdout",
     "output_type": "stream",
     "text": [
      "Train on 60428 samples, validate on 15107 samples\n",
      "Epoch 1/15\n",
      "60428/60428 [==============================] - 3s - loss: 2.6376 - acc: 0.2627 - val_loss: 2.3612 - val_acc: 0.2383\n",
      "Epoch 2/15\n",
      "60428/60428 [==============================] - 2s - loss: 1.9676 - acc: 0.3537 - val_loss: 2.1036 - val_acc: 0.2872\n",
      "Epoch 3/15\n",
      "60428/60428 [==============================] - 2s - loss: 1.8140 - acc: 0.3891 - val_loss: 2.1382 - val_acc: 0.2605\n",
      "Epoch 4/15\n",
      "60428/60428 [==============================] - 2s - loss: 1.7217 - acc: 0.4133 - val_loss: 2.0629 - val_acc: 0.2844\n",
      "Epoch 5/15\n",
      "60428/60428 [==============================] - 2s - loss: 1.6470 - acc: 0.4353 - val_loss: 1.9992 - val_acc: 0.2994\n",
      "Epoch 6/15\n",
      "60428/60428 [==============================] - 2s - loss: 1.5833 - acc: 0.4563 - val_loss: 1.9028 - val_acc: 0.3428\n",
      "Epoch 7/15\n",
      "60428/60428 [==============================] - 2s - loss: 1.5306 - acc: 0.4716 - val_loss: 1.9396 - val_acc: 0.3367\n",
      "Epoch 8/15\n",
      "60428/60428 [==============================] - 2s - loss: 1.4868 - acc: 0.4857 - val_loss: 1.9636 - val_acc: 0.3194\n",
      "Epoch 9/15\n",
      "60428/60428 [==============================] - 2s - loss: 1.4419 - acc: 0.4988 - val_loss: 1.9227 - val_acc: 0.3349\n",
      "Epoch 10/15\n",
      "60428/60428 [==============================] - 2s - loss: 1.4018 - acc: 0.5117 - val_loss: 1.8833 - val_acc: 0.3512\n",
      "Epoch 11/15\n",
      "60428/60428 [==============================] - 2s - loss: 1.3653 - acc: 0.5238 - val_loss: 1.8114 - val_acc: 0.3752\n",
      "Epoch 12/15\n",
      "60428/60428 [==============================] - 2s - loss: 1.3312 - acc: 0.5348 - val_loss: 1.9895 - val_acc: 0.3184\n",
      "Epoch 13/15\n",
      "60428/60428 [==============================] - 2s - loss: 1.3007 - acc: 0.5442 - val_loss: 1.9891 - val_acc: 0.3271\n",
      "Epoch 14/15\n",
      "60428/60428 [==============================] - 2s - loss: 1.2701 - acc: 0.5550 - val_loss: 1.9163 - val_acc: 0.3619\n",
      "Epoch 15/15\n",
      "60428/60428 [==============================] - 2s - loss: 1.2462 - acc: 0.5620 - val_loss: 1.9767 - val_acc: 0.3493\n",
      "24544/25214 [============================>.] - ETA: 0sTest score: 1.79312689663\n",
      "Test accuracy: 0.412270960587\n"
     ]
    }
   ],
   "source": [
    "king_model, king_history = compile_and_fit_ms_model(king_X_tr, king_y_tr, piece_selector_model())\n",
    "king_model, king_score = score_model(king_X_test, king_y_test, king_model)"
   ]
  },
  {
   "cell_type": "code",
   "execution_count": null,
   "metadata": {
    "collapsed": true
   },
   "outputs": [],
   "source": []
  }
 ],
 "metadata": {
  "kernelspec": {
   "display_name": "Python 3",
   "language": "python",
   "name": "python3"
  },
  "language_info": {
   "codemirror_mode": {
    "name": "ipython",
    "version": 3
   },
   "file_extension": ".py",
   "mimetype": "text/x-python",
   "name": "python",
   "nbconvert_exporter": "python",
   "pygments_lexer": "ipython3",
   "version": "3.6.1"
  }
 },
 "nbformat": 4,
 "nbformat_minor": 2
}
