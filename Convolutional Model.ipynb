{
 "cells": [
  {
   "cell_type": "code",
   "execution_count": 236,
   "metadata": {},
   "outputs": [],
   "source": [
    "import numpy as np\n",
    "\n",
    "import matplotlib.pyplot as plt\n",
    "\n",
    "from sklearn.model_selection import train_test_split\n",
    "\n",
    "from keras.models import Sequential\n",
    "from keras.layers import Dense, Dropout, Activation, Flatten\n",
    "from keras.layers.convolutional import Conv2D\n",
    "from keras.optimizers import SGD, RMSprop, Adam"
   ]
  },
  {
   "cell_type": "code",
   "execution_count": 215,
   "metadata": {
    "collapsed": true
   },
   "outputs": [],
   "source": [
    "def load_data():\n",
    "    print('Loading data...')\n",
    "    loaded = np.load('data/A00-139_first_10000.npz')\n",
    "    boards = loaded['arr_0']\n",
    "    targets = loaded['arr_1']\n",
    "    print('Data loaded.  Splitting data...')\n",
    "    b_train, b_test, t_train, t_test = train_test_split(boards, targets, test_size=0.25)\n",
    "    print('Returning output...')\n",
    "    return b_train, b_test, t_train, t_test"
   ]
  },
  {
   "cell_type": "code",
   "execution_count": 5,
   "metadata": {},
   "outputs": [
    {
     "name": "stdout",
     "output_type": "stream",
     "text": [
      "Loading data...\n",
      "Data loaded.  Splitting data...\n",
      "Returning output...\n"
     ]
    }
   ],
   "source": [
    "b_train, b_test, t_train, t_test = load_data()"
   ]
  },
  {
   "cell_type": "markdown",
   "metadata": {},
   "source": [
    "### Learning to Play Chess\n",
    "\n",
    "The initial objective in building the model will to be teach the agent how to play chess by example.  [@oshri2016predicting] offers one method for doing this by using convolutional neural networks to make predictions about the next move based on the board position.  They did this by training seven CNNs, the predict how desirable it was for each piece to move.  The last six were trained to predict the coordinates of a probable move for each piece.  Because of the differing objectives we will need to actually split out the data set into 7 different data sets, each containing only the board positions that are relavent to that CNN.\n",
    "\n",
    "This brings us to an important point about the CNN model.  We are not going to be giving it whole games at a time, rather pulling out only the specific board states that are relavent to that model. If we consider conceptually what this agent might be learning, because we are removing the flow of the actual game, this agent will probably not be able to reason about long term strategy very well.  Instead its creating a probability model of possible moves (and potentially impossible moves) based on a position. We might interpret this as learning the basic rules of the game, but certainly our agent isn't learning very much grant strategy.  \n",
    "\n",
    "Long term, we will seek to combine the intuition our agent will build about chess from the CNNs along with other deep learning approaches better suited to learning strategic choices.  These later agents may very likely required the data to be formatted in a different way, but that's work for later.\n",
    "\n",
    "#### Design Choices\n",
    "\n",
    "##### Split by color or not\n",
    "There are a series of choices that I will have to make in creating this model.  First, given that I am already cutting down the data set considerably to only moves for particular pieces, should I split the data further down to just white or black and train individual models.  This is a tough one, because there is both undeniable differences in how black has to play the game, particularly in the start of the game when they are behind a tempo automatically, and similarities in how the game is played no matter which color you are.  All that considered, the goal of *this particular model* is to learn legal and reasonable moves give a board state.  These are not the most strategic moves, as this model will have no conception of the temporal aspect of chess, and so I don't think we need to concern this model with the color of the pieces.\n",
    "\n",
    "### Preparing the data for CNNs"
   ]
  },
  {
   "cell_type": "code",
   "execution_count": 230,
   "metadata": {},
   "outputs": [],
   "source": [
    "def b_to_w(boards):\n",
    "    return np.fliplr(boards)*-1\n",
    "\n",
    "def convert_colors(b=b_train, t=t_train):\n",
    "    move_made_by = t[:, 0]\n",
    "    bbs = b[(move_made_by == \"b\")]\n",
    "    bms = t[(move_made_by == 'b')]\n",
    "    wbs = b[(move_made_by == \"w\")]\n",
    "    wms = t[(move_made_by == 'w')]\n",
    "    bbs_t = np.array([b_to_w(b) for b in bbs])\n",
    "    bs = np.concatenate([bbs_t, wbs], axis=0)\n",
    "    ms = np.concatenate([bms, wms], axis=0)\n",
    "    return bs, ms\n",
    "\n",
    "def convert_coord(a):\n",
    "    #print(a)\n",
    "    board = np.zeros((8, 8))\n",
    "    board[int(a[0]),int(a[1])] = 1\n",
    "    return board\n",
    "\n",
    "def move_selector_data(bs, ms):\n",
    "    # piece selector data consists of all available board positions. The predictor is the index of the piece\n",
    "    # that moved (0 through 5).  \n",
    "    y = np.apply_along_axis(func1d=convert_coord, axis=1, arr=ms[:, 2:4])\n",
    "    #print(y.shape)\n",
    "    print(\"The Move Selector data set contains {} boards\".format(y.shape[0]))\n",
    "    return bs.astype('int'), y.reshape(y.shape[0], 64)\n",
    "\n",
    "def single_piece_selector_data(bs, ms, piece):\n",
    "    pieces = ['Pawn', 'Rook', 'Knight', 'Bishop', 'Queen', 'King']\n",
    "    move_selector = ms[:, 1]\n",
    "    piece_bs = bs[move_selector == piece]\n",
    "    piece_ms = ms[move_selector == piece, 4:6]\n",
    "    piece_mats = np.array([board[int(piece)] for board in piece_bs])\n",
    "    y = np.apply_along_axis(func1d=convert_coord, axis=1, arr=piece_ms)\n",
    "    print(\"The {} Move Selector data set contains {} boards\".format(pieces[int(piece)], piece_ms.shape[0]))\n",
    "    return piece_mats.astype('int'), y.reshape(y.shape[0], 64)"
   ]
  },
  {
   "cell_type": "code",
   "execution_count": 231,
   "metadata": {
    "scrolled": false
   },
   "outputs": [
    {
     "name": "stdout",
     "output_type": "stream",
     "text": [
      "The Move Selector data set contains 633586 boards\n",
      "The Pawn Move Selector data set contains 166571 boards\n",
      "The Rook Move Selector data set contains 109601 boards\n",
      "The Knight Move Selector data set contains 111422 boards\n",
      "The Bishop Move Selector data set contains 97185 boards\n",
      "The Queen Move Selector data set contains 73443 boards\n",
      "The King Move Selector data set contains 75364 boards\n"
     ]
    }
   ],
   "source": [
    "X_train, y_train = convert_colors()\n",
    "ps_X_tr, ps_y_tr = move_selector_data(X_train, y_train)\n",
    "pawn_X_tr, pawn_y_tr = single_piece_selector_data(X_train, y_train, '0') \n",
    "rook_X_tr, rook_y_tr = single_piece_selector_data(X_train, y_train, '1')\n",
    "knight_X_tr, knight_y_tr = single_piece_selector_data(X_train, y_train, '2')\n",
    "bishop_X_tr, bishop_y_tr = single_piece_selector_data(X_train, y_train, '3')\n",
    "queen_X_tr, queen_y_tr = single_piece_selector_data(X_train, y_train, '4')\n",
    "king_X_tr, king_y_tr = single_piece_selector_data(X_train, y_train, '5')"
   ]
  },
  {
   "cell_type": "code",
   "execution_count": 232,
   "metadata": {},
   "outputs": [
    {
     "name": "stdout",
     "output_type": "stream",
     "text": [
      "The Move Selector data set contains 211196 boards\n",
      "The Pawn Move Selector data set contains 55353 boards\n",
      "The Rook Move Selector data set contains 36604 boards\n",
      "The Knight Move Selector data set contains 37301 boards\n",
      "The Bishop Move Selector data set contains 32265 boards\n",
      "The Queen Move Selector data set contains 24288 boards\n",
      "The King Move Selector data set contains 25385 boards\n"
     ]
    }
   ],
   "source": [
    "X_test, y_test = convert_colors(b_test, t_test)\n",
    "ps_X_test, ps_y_test = move_selector_data(X_test, y_test)\n",
    "pawn_X_test, pawn_y_test = single_piece_selector_data(X_test, y_test, '0') \n",
    "rook_X_test, rook_y_test = single_piece_selector_data(X_test, y_test, '1')\n",
    "knight_X_test, knight_y_test = single_piece_selector_data(X_test, y_test, '2')\n",
    "bishop_X_test, bishop_y_test = single_piece_selector_data(X_test, y_test, '3')\n",
    "queen_X_test, queen_y_test = single_piece_selector_data(X_test, y_test, '4')\n",
    "king_X_test, king_y_test = single_piece_selector_data(X_test, y_test, '5')"
   ]
  },
  {
   "cell_type": "code",
   "execution_count": 241,
   "metadata": {
    "collapsed": true
   },
   "outputs": [],
   "source": [
    "OPTIMIZER = RMSprop()\n",
    "BATCH_SIZE = 128\n",
    "NB_EPOCH = 15\n",
    "VERBOSE = 1\n",
    "VALIDATION_SPLIT = 0.2  \n",
    "\n",
    "def piece_selector_model(kernal_size=(3, 3), conv_layers=2, dense_layers=2):\n",
    "    BOARD_CHANNELS = 6\n",
    "    BOARD_ROWS = 8\n",
    "    BOARD_COLS = 8    \n",
    "    NB_CLASSES = 64\n",
    "\n",
    "    # network\n",
    "    model = Sequential()\n",
    "    model.add(Conv2D(32, kernal_size, padding='same',\n",
    "    input_shape=(BOARD_CHANNELS, BOARD_COLS, BOARD_ROWS)))\n",
    "    model.add(Activation('relu'))\n",
    "    if conv_layers > 1:\n",
    "        for i in range(conv_layers-1):\n",
    "            model.add(Conv2D(32, kernal_size, padding='same'))\n",
    "            model.add(Activation('relu'))\n",
    "    \n",
    "    model.add(Flatten())\n",
    "    if dense_layers > 1:\n",
    "        for i in range(dense_layers-1):\n",
    "            model.add(Dense(64))\n",
    "            model.add(Activation(\"relu\")) \n",
    "    \n",
    "    model.add(Dense(NB_CLASSES))\n",
    "    model.add(Activation(\"softmax\"))\n",
    "    return model"
   ]
  },
  {
   "cell_type": "code",
   "execution_count": 242,
   "metadata": {},
   "outputs": [],
   "source": [
    "model = piece_selector_model()"
   ]
  },
  {
   "cell_type": "code",
   "execution_count": 243,
   "metadata": {},
   "outputs": [
    {
     "name": "stdout",
     "output_type": "stream",
     "text": [
      "Train on 506868 samples, validate on 126718 samples\n",
      "Epoch 1/50\n",
      "506868/506868 [==============================] - 22s - loss: 2.8307 - acc: 0.2081 - val_loss: 2.6724 - val_acc: 0.1834\n",
      "Epoch 2/50\n",
      "506868/506868 [==============================] - 21s - loss: 2.3862 - acc: 0.2598 - val_loss: 2.5550 - val_acc: 0.2035\n",
      "Epoch 3/50\n",
      "506868/506868 [==============================] - 21s - loss: 2.2886 - acc: 0.2788 - val_loss: 2.5160 - val_acc: 0.2085\n",
      "Epoch 4/50\n",
      "506868/506868 [==============================] - 21s - loss: 2.2391 - acc: 0.2897 - val_loss: 2.5138 - val_acc: 0.2078\n",
      "Epoch 5/50\n",
      "506868/506868 [==============================] - 21s - loss: 2.2086 - acc: 0.2964 - val_loss: 2.4873 - val_acc: 0.2163\n",
      "Epoch 6/50\n",
      "506868/506868 [==============================] - 21s - loss: 2.1907 - acc: 0.3007 - val_loss: 2.4108 - val_acc: 0.2307\n",
      "Epoch 7/50\n",
      "506868/506868 [==============================] - 21s - loss: 2.1825 - acc: 0.3030 - val_loss: 2.3791 - val_acc: 0.2373\n",
      "Epoch 8/50\n",
      "506868/506868 [==============================] - 22s - loss: 2.1818 - acc: 0.3028 - val_loss: 2.4279 - val_acc: 0.2301\n",
      "Epoch 9/50\n",
      "506868/506868 [==============================] - 22s - loss: 2.1879 - acc: 0.3024 - val_loss: 2.4451 - val_acc: 0.2239\n",
      "Epoch 10/50\n",
      "506868/506868 [==============================] - 22s - loss: 2.1961 - acc: 0.3007 - val_loss: 2.4482 - val_acc: 0.2206\n",
      "Epoch 11/50\n",
      "506868/506868 [==============================] - 22s - loss: 2.2091 - acc: 0.2987 - val_loss: 2.3749 - val_acc: 0.2306\n",
      "Epoch 12/50\n",
      "506868/506868 [==============================] - 22s - loss: 2.2164 - acc: 0.2973 - val_loss: 2.5073 - val_acc: 0.2175\n",
      "Epoch 13/50\n",
      "506868/506868 [==============================] - 21s - loss: 2.2213 - acc: 0.2967 - val_loss: 2.4084 - val_acc: 0.2306\n",
      "Epoch 14/50\n",
      "506868/506868 [==============================] - 21s - loss: 2.2214 - acc: 0.2973 - val_loss: 2.5037 - val_acc: 0.2086\n",
      "Epoch 15/50\n",
      "506868/506868 [==============================] - 21s - loss: 2.2223 - acc: 0.2963 - val_loss: 2.4778 - val_acc: 0.2175\n",
      "Epoch 16/50\n",
      "506868/506868 [==============================] - 21s - loss: 2.2205 - acc: 0.2974 - val_loss: 2.4806 - val_acc: 0.2150\n",
      "Epoch 17/50\n",
      "506868/506868 [==============================] - 21s - loss: 2.2188 - acc: 0.2970 - val_loss: 2.4563 - val_acc: 0.2222\n",
      "Epoch 18/50\n",
      "506868/506868 [==============================] - 21s - loss: 2.2177 - acc: 0.2973 - val_loss: 2.6088 - val_acc: 0.1991\n",
      "Epoch 19/50\n",
      "506868/506868 [==============================] - 21s - loss: 2.2187 - acc: 0.2978 - val_loss: 2.4843 - val_acc: 0.2135\n",
      "Epoch 20/50\n",
      "506868/506868 [==============================] - 21s - loss: 2.2167 - acc: 0.2979 - val_loss: 2.4085 - val_acc: 0.2287\n",
      "Epoch 21/50\n",
      "506868/506868 [==============================] - 21s - loss: 2.2146 - acc: 0.2988 - val_loss: 2.4987 - val_acc: 0.2080\n",
      "Epoch 22/50\n",
      "506868/506868 [==============================] - 21s - loss: 2.2120 - acc: 0.2993 - val_loss: 2.4568 - val_acc: 0.2165\n",
      "Epoch 23/50\n",
      "506868/506868 [==============================] - 21s - loss: 2.2132 - acc: 0.2995 - val_loss: 2.5139 - val_acc: 0.2079\n",
      "Epoch 24/50\n",
      "506868/506868 [==============================] - 21s - loss: 2.2143 - acc: 0.2992 - val_loss: 2.4651 - val_acc: 0.2230\n",
      "Epoch 25/50\n",
      "506868/506868 [==============================] - 21s - loss: 2.2125 - acc: 0.2998 - val_loss: 2.4834 - val_acc: 0.2170\n",
      "Epoch 26/50\n",
      "506868/506868 [==============================] - 21s - loss: 2.2141 - acc: 0.3001 - val_loss: 2.4864 - val_acc: 0.2107\n",
      "Epoch 27/50\n",
      "506868/506868 [==============================] - 21s - loss: 2.2126 - acc: 0.3004 - val_loss: 2.4646 - val_acc: 0.2168\n",
      "Epoch 28/50\n",
      "506868/506868 [==============================] - 21s - loss: 2.2106 - acc: 0.3011 - val_loss: 2.5114 - val_acc: 0.2047\n",
      "Epoch 29/50\n",
      "506868/506868 [==============================] - 21s - loss: 2.2104 - acc: 0.3023 - val_loss: 2.4743 - val_acc: 0.2124\n",
      "Epoch 30/50\n",
      "506868/506868 [==============================] - 21s - loss: 2.2084 - acc: 0.3013 - val_loss: 2.5986 - val_acc: 0.1855\n",
      "Epoch 31/50\n",
      "506868/506868 [==============================] - 21s - loss: 2.2065 - acc: 0.3022 - val_loss: 2.4587 - val_acc: 0.2196\n",
      "Epoch 32/50\n",
      "506868/506868 [==============================] - 21s - loss: 2.2042 - acc: 0.3036 - val_loss: 2.4449 - val_acc: 0.2240\n",
      "Epoch 33/50\n",
      "506868/506868 [==============================] - 21s - loss: 2.2039 - acc: 0.3024 - val_loss: 2.4558 - val_acc: 0.2175\n",
      "Epoch 34/50\n",
      "506868/506868 [==============================] - 21s - loss: 2.2023 - acc: 0.3027 - val_loss: 2.5062 - val_acc: 0.2057\n",
      "Epoch 35/50\n",
      "506868/506868 [==============================] - 21s - loss: 2.2012 - acc: 0.3035 - val_loss: 2.4226 - val_acc: 0.2215\n",
      "Epoch 36/50\n",
      "506868/506868 [==============================] - 21s - loss: 2.2016 - acc: 0.3039 - val_loss: 2.4932 - val_acc: 0.2075\n",
      "Epoch 37/50\n",
      "506868/506868 [==============================] - 21s - loss: 2.2007 - acc: 0.3034 - val_loss: 2.4466 - val_acc: 0.2198\n",
      "Epoch 38/50\n",
      "506868/506868 [==============================] - 21s - loss: 2.2016 - acc: 0.3040 - val_loss: 2.5573 - val_acc: 0.1899\n",
      "Epoch 39/50\n",
      "506868/506868 [==============================] - 21s - loss: 2.2026 - acc: 0.3033 - val_loss: 2.5757 - val_acc: 0.1915\n",
      "Epoch 40/50\n",
      "506868/506868 [==============================] - 21s - loss: 2.2032 - acc: 0.3038 - val_loss: 2.4379 - val_acc: 0.2233\n",
      "Epoch 41/50\n",
      "506868/506868 [==============================] - 21s - loss: 2.2026 - acc: 0.3040 - val_loss: 2.5552 - val_acc: 0.2021\n",
      "Epoch 42/50\n",
      "506868/506868 [==============================] - 21s - loss: 2.2020 - acc: 0.3037 - val_loss: 2.4230 - val_acc: 0.2257\n",
      "Epoch 43/50\n",
      "506868/506868 [==============================] - 21s - loss: 2.2011 - acc: 0.3045 - val_loss: 2.4640 - val_acc: 0.2205\n",
      "Epoch 44/50\n",
      "506868/506868 [==============================] - 21s - loss: 2.2010 - acc: 0.3047 - val_loss: 2.4609 - val_acc: 0.2174\n",
      "Epoch 45/50\n",
      "506868/506868 [==============================] - 21s - loss: 2.2021 - acc: 0.3044 - val_loss: 2.4470 - val_acc: 0.2176\n",
      "Epoch 46/50\n",
      "506868/506868 [==============================] - 21s - loss: 2.2026 - acc: 0.3039 - val_loss: 2.5434 - val_acc: 0.2015\n",
      "Epoch 47/50\n",
      "506868/506868 [==============================] - 21s - loss: 2.2039 - acc: 0.3038 - val_loss: 2.5423 - val_acc: 0.2045\n",
      "Epoch 48/50\n",
      "506868/506868 [==============================] - 21s - loss: 2.2039 - acc: 0.3047 - val_loss: 2.5591 - val_acc: 0.2063\n",
      "Epoch 49/50\n",
      "506868/506868 [==============================] - 21s - loss: 2.2045 - acc: 0.3037 - val_loss: 2.5194 - val_acc: 0.2073\n",
      "Epoch 50/50\n",
      "506868/506868 [==============================] - 21s - loss: 2.2053 - acc: 0.3039 - val_loss: 2.5165 - val_acc: 0.2073\n",
      "210560/211196 [============================>.] - ETA: 0sTest score: 2.32604677525\n",
      "Test accuracy: 0.270535426807\n"
     ]
    }
   ],
   "source": [
    "model.compile(loss=\"categorical_crossentropy\", optimizer=OPTIMIZER, metrics=[\"accuracy\"])\n",
    "history = model.fit(ps_X_tr, ps_y_tr,\n",
    "                    batch_size=BATCH_SIZE, epochs=NB_EPOCH,\n",
    "                    verbose=VERBOSE, validation_split=VALIDATION_SPLIT)\n",
    "score = model.evaluate(ps_X_test, ps_y_test, verbose=VERBOSE)\n",
    "print(\"Test score:\", score[0])\n",
    "print('Test accuracy:', score[1])"
   ]
  },
  {
   "cell_type": "code",
   "execution_count": 244,
   "metadata": {},
   "outputs": [
    {
     "name": "stdout",
     "output_type": "stream",
     "text": [
      "dict_keys(['val_loss', 'val_acc', 'loss', 'acc'])\n"
     ]
    },
    {
     "data": {
      "image/png": "[encoded data removed]",
      "text/plain": [
       "<matplotlib.figure.Figure at 0x16eade2bcc0>"
      ]
     },
     "metadata": {},
     "output_type": "display_data"
    },
    {
     "data": {
      "image/png": "[encoded data removed]",
      "text/plain": [
       "<matplotlib.figure.Figure at 0x16e998271d0>"
      ]
     },
     "metadata": {},
     "output_type": "display_data"
    }
   ],
   "source": [
    "# list all data in history\n",
    "print(history.history.keys())\n",
    "# summarize history for accuracy\n",
    "plt.plot(history.history['acc'])\n",
    "plt.plot(history.history['val_acc'])\n",
    "plt.title('model accuracy')\n",
    "plt.ylabel('accuracy')\n",
    "plt.xlabel('epoch')\n",
    "plt.legend(['train', 'test'], loc='upper left')\n",
    "plt.show()\n",
    "# summarize history for loss\n",
    "plt.plot(history.history['loss'])\n",
    "plt.plot(history.history['val_loss'])\n",
    "plt.title('model loss')\n",
    "plt.ylabel('loss')\n",
    "plt.xlabel('epoch')\n",
    "plt.legend(['train', 'test'], loc='upper left')\n",
    "plt.show()"
   ]
  },
  {
   "cell_type": "code",
   "execution_count": null,
   "metadata": {
    "collapsed": true
   },
   "outputs": [],
   "source": []
  }
 ],
 "metadata": {
  "kernelspec": {
   "display_name": "Python 3",
   "language": "python",
   "name": "python3"
  },
  "language_info": {
   "codemirror_mode": {
    "name": "ipython",
    "version": 3
   },
   "file_extension": ".py",
   "mimetype": "text/x-python",
   "name": "python",
   "nbconvert_exporter": "python",
   "pygments_lexer": "ipython3",
   "version": "3.6.1"
  }
 },
 "nbformat": 4,
 "nbformat_minor": 2
}
