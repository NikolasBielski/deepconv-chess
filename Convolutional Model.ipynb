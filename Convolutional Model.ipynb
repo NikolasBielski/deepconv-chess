{
 "cells": [
  {
   "cell_type": "code",
   "execution_count": 4,
   "metadata": {},
   "outputs": [],
   "source": [
    "import numpy as np\n",
    "\n",
    "\n",
    "from sklearn.model_selection import train_test_split\n",
    "\n",
    "from keras.models import Sequential\n",
    "from keras.layers import Dense, Dropout, Activation"
   ]
  },
  {
   "cell_type": "code",
   "execution_count": 5,
   "metadata": {
    "collapsed": true
   },
   "outputs": [],
   "source": [
    "def load_data():\n",
    "    print('Loading data...')\n",
    "    loaded = np.load('data/A00-139_first_10000.npz')\n",
    "    boards = loaded['arr_0']\n",
    "    targets = loaded['arr_1']\n",
    "    print('Data loaded.  Splitting data...')\n",
    "    b_train, b_test, t_train, t_test = train_test_split(boards, targets, test_size=0.25)\n",
    "    print('Returning output...')\n",
    "    return b_train, b_test, t_train, t_test"
   ]
  },
  {
   "cell_type": "code",
   "execution_count": 6,
   "metadata": {},
   "outputs": [
    {
     "name": "stdout",
     "output_type": "stream",
     "text": [
      "Loading data...\n",
      "Data loaded.  Splitting data...\n",
      "Returning output...\n"
     ]
    }
   ],
   "source": [
    "b_train, b_test, t_train, t_test = load_data()"
   ]
  },
  {
   "cell_type": "markdown",
   "metadata": {},
   "source": [
    "### Applying Convolutional Neural Networks to the problem\n",
    "\n",
    "Modeled off of the approach by Oshri and Khandwala, we would like "
   ]
  },
  {
   "cell_type": "code",
   "execution_count": null,
   "metadata": {
    "collapsed": true
   },
   "outputs": [],
   "source": [
    "def "
   ]
  }
 ],
 "metadata": {
  "kernelspec": {
   "display_name": "Python 3",
   "language": "python",
   "name": "python3"
  },
  "language_info": {
   "codemirror_mode": {
    "name": "ipython",
    "version": 3
   },
   "file_extension": ".py",
   "mimetype": "text/x-python",
   "name": "python",
   "nbconvert_exporter": "python",
   "pygments_lexer": "ipython3",
   "version": "3.6.1"
  }
 },
 "nbformat": 4,
 "nbformat_minor": 2
}
